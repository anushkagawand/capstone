{
 "cells": [
  {
   "cell_type": "code",
   "execution_count": 12,
   "metadata": {},
   "outputs": [],
   "source": [
    "import pandas as pd\n",
    "import numpy as np # library to handle data in a vectorized manner\n",
    "import json # library to handle JSON files\n",
    "import requests # library to handle requests\n",
    "from pandas.io.json import json_normalize # tranform JSON file into a pandas dataframe"
   ]
  },
  {
   "cell_type": "code",
   "execution_count": 13,
   "metadata": {},
   "outputs": [],
   "source": [
    "CLIENT_ID = 'U3L0E5VI14H52DFV4DN2Y5MXHUBNTDUPNLU0JI00FLDBWGUM' # your Foursquare ID\n",
    "CLIENT_SECRET = 'C5R3QORGYXLQKOZ4124QLZNAFH4A41V15ALUDQJVDABB1X0V' # your Foursquare Secret\n",
    "VERSION = '20180605' # Foursquare API version\n",
    "# Gym / Fitness Center : 4bf58dd8d48988d175941735\n",
    "categoryId = '4bf58dd8d48988d175941735'\n",
    "LIMIT = 500\n",
    "# radius = 500"
   ]
  },
  {
   "cell_type": "code",
   "execution_count": 14,
   "metadata": {},
   "outputs": [],
   "source": [
    "MyDF = pd.read_csv('citys.csv')\n",
    "# MyDF.head()"
   ]
  },
  {
   "cell_type": "code",
   "execution_count": 15,
   "metadata": {},
   "outputs": [
    {
     "name": "stdout",
     "output_type": "stream",
     "text": [
      "Blue Springs, MO\t: Number of Gym / Fitness Centers are 1.\n",
      "Independence, MO\t: Number of Gym / Fitness Centers are 1.\n",
      "Kansas City, MO\t: Number of Gym / Fitness Centers are 19.\n",
      "Kansas City, KS\t: Number of Gym / Fitness Centers are 1.\n",
      "Leavenworth, KS\t: Number of Gym / Fitness Centers are 1.\n",
      "Leawood, KS\t: Number of Gym / Fitness Centers are 0.\n",
      "Lees Summit, MO\t: Number of Gym / Fitness Centers are 4.\n",
      "Lenexa, KS\t: Number of Gym / Fitness Centers are 3.\n",
      "Liberty, MO\t: Number of Gym / Fitness Centers are 2.\n",
      "Olathe, KS\t: Number of Gym / Fitness Centers are 5.\n",
      "Overland Park, KS\t: Number of Gym / Fitness Centers are 7.\n",
      "Shawnee, KS\t: Number of Gym / Fitness Centers are 0.\n"
     ]
    }
   ],
   "source": [
    "for index, row in MyDF.iterrows():\n",
    "    address = row['MyCity']+\", \" + row['MyState']\n",
    "    geolocator = Nominatim(user_agent=\"ny_explorer\")\n",
    "    location = geolocator.geocode(address)\n",
    "    latitude = location.latitude\n",
    "    longitude = location.longitude    \n",
    "    url = 'https://api.foursquare.com/v2/venues/search?client_id={}&client_secret={}&ll={},{}&v={}&categoryId={}&limit={}'.format(CLIENT_ID, CLIENT_SECRET, latitude, longitude, VERSION, categoryId, LIMIT)\n",
    "    # print(url)\n",
    "    # print(address + \": The geograpical coordinate are {}, {}.\".format(latitude, longitude))\n",
    "    results = requests.get(url).json()\n",
    "    # print(results)\n",
    "    venues = results['response']['venues']\n",
    "    nearby_venues = json_normalize(venues) # flatten JSON\n",
    "    nearby_venues.rename(columns={'location.city':'city', 'location.lat':'lat', 'location.lng':'lng', 'location.state':'state'}, inplace=True)\n",
    "    nearby_venues = nearby_venues[(nearby_venues.city == row['MyCity']) & (nearby_venues.state == row['MyState'])]\n",
    "    # print(nearby_venues.shape[0])\n",
    "    print(address  + \"\\t\" + \": Number of Gym / Fitness Centers are {}.\".format(nearby_venues.shape[0]))\n",
    "    \n",
    "    \n"
   ]
  },
  {
   "cell_type": "code",
   "execution_count": null,
   "metadata": {},
   "outputs": [],
   "source": []
  }
 ],
 "metadata": {
  "kernelspec": {
   "display_name": "Python 3",
   "language": "python",
   "name": "python3"
  },
  "language_info": {
   "codemirror_mode": {
    "name": "ipython",
    "version": 3
   },
   "file_extension": ".py",
   "mimetype": "text/x-python",
   "name": "python",
   "nbconvert_exporter": "python",
   "pygments_lexer": "ipython3",
   "version": "3.7.3"
  }
 },
 "nbformat": 4,
 "nbformat_minor": 2
}
